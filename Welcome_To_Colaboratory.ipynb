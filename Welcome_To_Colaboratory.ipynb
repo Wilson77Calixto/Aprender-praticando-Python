{
  "cells": [
    {
      "cell_type": "markdown",
      "metadata": {
        "id": "view-in-github",
        "colab_type": "text"
      },
      "source": [
        "<a href=\"https://colab.research.google.com/github/Wilson77Calixto/Aprender-praticando-Python/blob/master/Welcome_To_Colaboratory.ipynb\" target=\"_parent\"><img src=\"https://colab.research.google.com/assets/colab-badge.svg\" alt=\"Open In Colab\"/></a>"
      ]
    },
    {
      "cell_type": "markdown",
      "source": [
        "ANÁLISE DESCRITVA DE DADOS (ADD)\n",
        "\n",
        "'Quantidade de alunos por tipo de ensino da rede Estadual de São Paulo - 2021'"
      ],
      "metadata": {
        "id": "IzPjgMSsIOnp"
      }
    },
    {
      "cell_type": "code",
      "source": [
        "import pandas as pd\n",
        "import seaborn as sb\n",
        "import matplotlib.pyplot as plt\n",
        "\n",
        "sb.set(rc={'figure.figsize':(15,8)})\n"
      ],
      "metadata": {
        "id": "ca0aJ5CY7P1W"
      },
      "execution_count": 2,
      "outputs": []
    },
    {
      "cell_type": "code",
      "source": [
        "url = 'https://dados.educacao.sp.gov.br/sites/default/files/Quantidade%20de%20alunos%20por%20tipo%20de%20ensino%20da%20rede%20estadual%20-%202021.csv'\n",
        "        \n",
        "    "
      ],
      "metadata": {
        "id": "Bhye-fBX7P_t"
      },
      "execution_count": 4,
      "outputs": []
    },
    {
      "cell_type": "code",
      "source": [
        "escolas = pd.read_csv(url)\n",
        "escolas"
      ],
      "metadata": {
        "id": "QR3f6b1m7QBC"
      },
      "execution_count": null,
      "outputs": []
    },
    {
      "cell_type": "code",
      "source": [
        "escolas.head(20)"
      ],
      "metadata": {
        "id": "1Pe1qIbr7QFI"
      },
      "execution_count": null,
      "outputs": []
    },
    {
      "cell_type": "code",
      "source": [
        "escolas.info()"
      ],
      "metadata": {
        "id": "qPii7VjA-WXC"
      },
      "execution_count": null,
      "outputs": []
    },
    {
      "cell_type": "code",
      "source": [
        "# Distribuição de frequências\n",
        "sb.displot(escolas['ANOS INICIAIS'])\n",
        "plt.show()"
      ],
      "metadata": {
        "id": "oU9r3FH2-vo_"
      },
      "execution_count": null,
      "outputs": []
    },
    {
      "cell_type": "code",
      "source": [
        "filtro_escolas = escolas[escolas['ANOS INICIAIS']>0]\n"
      ],
      "metadata": {
        "id": "Xsk-yQbs_h23"
      },
      "execution_count": 16,
      "outputs": []
    },
    {
      "cell_type": "code",
      "source": [
        "sb.displot(filtro_escolas['ANOS INICIAIS'], bins=10)\n",
        "plt.show()"
      ],
      "metadata": {
        "id": "9jGmHRBd_7Fm"
      },
      "execution_count": null,
      "outputs": []
    },
    {
      "cell_type": "code",
      "source": [
        "filtro_escolas = escolas[escolas['ANOS FINAIS']>0]\n"
      ],
      "metadata": {
        "id": "nphs-sRjAfX-"
      },
      "execution_count": 19,
      "outputs": []
    },
    {
      "cell_type": "code",
      "source": [
        "sb.displot(filtro_escolas['ANOS FINAIS'], bins=10)\n",
        "plt.show()"
      ],
      "metadata": {
        "id": "lhIKw_jpAmN0"
      },
      "execution_count": null,
      "outputs": []
    },
    {
      "cell_type": "code",
      "source": [
        "filtro_escolas = escolas[escolas['ENSINO MEDIO']>0]"
      ],
      "metadata": {
        "id": "Ol5_JFXqAxHU"
      },
      "execution_count": 22,
      "outputs": []
    },
    {
      "cell_type": "code",
      "source": [
        "sb.displot(filtro_escolas['ENSINO MEDIO'], bins=10)\n",
        "plt.show()"
      ],
      "metadata": {
        "id": "akaYPnrWBFZc"
      },
      "execution_count": null,
      "outputs": []
    },
    {
      "cell_type": "code",
      "source": [
        "fundamental_iniciais = escolas['ANOS INICIAIS'].sum()"
      ],
      "metadata": {
        "id": "Fv6olJdiBNFF"
      },
      "execution_count": 24,
      "outputs": []
    },
    {
      "cell_type": "code",
      "source": [
        "fundamental_finais = escolas['ANOS FINAIS'].sum()"
      ],
      "metadata": {
        "id": "94GiokZRBqj7"
      },
      "execution_count": 25,
      "outputs": []
    },
    {
      "cell_type": "code",
      "source": [
        "medio = escolas['ENSINO MEDIO'].sum()"
      ],
      "metadata": {
        "id": "wQEAJM_WB26b"
      },
      "execution_count": 26,
      "outputs": []
    },
    {
      "cell_type": "code",
      "source": [
        "total = (fundamental_iniciais+fundamental_finais+medio)\n",
        "total"
      ],
      "metadata": {
        "id": "bq0oLOh9B_eF"
      },
      "execution_count": null,
      "outputs": []
    },
    {
      "cell_type": "code",
      "source": [
        "alunos = [fundamental_iniciais, fundamental_finais, medio]\n",
        "periodo = ['fundamental_iniciais', 'fundamental_finais', 'medio']\n",
        "plt.pie(alunos, labels=periodo, autopct='%0.0f%%')\n",
        "plt.show()"
      ],
      "metadata": {
        "id": "-TCHEkrPCbep"
      },
      "execution_count": null,
      "outputs": []
    },
    {
      "cell_type": "code",
      "source": [
        "# Posição relativa\n",
        "filtro_escolas = escolas[escolas['ENSINO MEDIO']>0]\n",
        "sb.boxplot(y=filtro_escolas['ENSINO MEDIO'])\n",
        "plt.show()"
      ],
      "metadata": {
        "id": "EoirbX-eDtqp"
      },
      "execution_count": null,
      "outputs": []
    },
    {
      "cell_type": "code",
      "source": [
        "# Tendência central e dispersão\n",
        "escolas['ANOS FINAIS'].describe()"
      ],
      "metadata": {
        "id": "biEUYlugFv41"
      },
      "execution_count": null,
      "outputs": []
    },
    {
      "cell_type": "code",
      "source": [
        "filtro_escolas = escolas[(escolas['ANOS INICIAIS']>0)&(escolas['ANOS FINAIS']>0)]\n",
        "sb.scatterplot(x=filtro_escolas['ANOS INICIAIS'], y=filtro_escolas['ANOS FINAIS'])\n",
        "plt.show()"
      ],
      "metadata": {
        "id": "T9HpNf_WGfBi"
      },
      "execution_count": null,
      "outputs": []
    }
  ],
  "metadata": {
    "colab": {
      "collapsed_sections": [],
      "name": "Welcome To Colaboratory",
      "provenance": [],
      "include_colab_link": true
    },
    "kernelspec": {
      "display_name": "Python 3",
      "name": "python3"
    }
  },
  "nbformat": 4,
  "nbformat_minor": 0
}