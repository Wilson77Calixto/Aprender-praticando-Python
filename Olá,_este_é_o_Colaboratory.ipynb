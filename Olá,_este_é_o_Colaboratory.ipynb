{
  "nbformat": 4,
  "nbformat_minor": 0,
  "metadata": {
    "colab": {
      "name": "Olá, este é o Colaboratory",
      "provenance": [],
      "collapsed_sections": [],
      "include_colab_link": true
    },
    "kernelspec": {
      "display_name": "Python 3",
      "name": "python3"
    }
  },
  "cells": [
    {
      "cell_type": "markdown",
      "metadata": {
        "id": "view-in-github",
        "colab_type": "text"
      },
      "source": [
        "<a href=\"https://colab.research.google.com/github/Wilson77Calixto/Aprender-praticando-Python/blob/master/Ol%C3%A1%2C_este_%C3%A9_o_Colaboratory.ipynb\" target=\"_parent\"><img src=\"https://colab.research.google.com/assets/colab-badge.svg\" alt=\"Open In Colab\"/></a>"
      ]
    },
    {
      "cell_type": "code",
      "metadata": {
        "id": "phUt_ibG61GD"
      },
      "source": [
        "# Progama calcula salário de acordo com horas trabalhadas\n",
        "\n",
        "func = int(input('Digite o número do funcionário: '))\n",
        "horas_trabalhada = int(input('Qual o número de trabalhadas? '))\n",
        "valor_hora = float(input('Qual o valor da hora trabalhada? '))\n",
        "\n",
        "salario = horas_trabalhada * valor_hora\n",
        "\n",
        "print(f'NÚMERO = {func :.0f} ')\n",
        "print(f'SALÁRIO = R$ {salario :.2f} ')\n"
      ],
      "execution_count": null,
      "outputs": []
    },
    {
      "cell_type": "code",
      "metadata": {
        "id": "QlyWweVI61JC"
      },
      "source": [
        "# Programa calcula comissão de vendedor\n",
        "\n",
        "vendedor = input('Digite o nome do vendedor: ')\n",
        "salario = float(input('Qual é o salário fixo? R$ ' ))\n",
        "total_vendas = float(input('Digite o total de vendas no mês: R$ '))\n",
        "\n",
        "total_final = (total_vendas * 15)/100 + salario\n",
        "print(f'TOTAL = R$ {total_final :.2f} ')"
      ],
      "execution_count": null,
      "outputs": []
    },
    {
      "cell_type": "code",
      "metadata": {
        "id": "Yj4EFsa861MZ"
      },
      "source": [
        ""
      ],
      "execution_count": null,
      "outputs": []
    },
    {
      "cell_type": "code",
      "metadata": {
        "id": "x6nTazjS61PZ"
      },
      "source": [
        ""
      ],
      "execution_count": null,
      "outputs": []
    },
    {
      "cell_type": "code",
      "metadata": {
        "id": "S_o6Wpa_61Sa"
      },
      "source": [
        ""
      ],
      "execution_count": null,
      "outputs": []
    },
    {
      "cell_type": "code",
      "metadata": {
        "id": "AuZutGI-61Vi"
      },
      "source": [
        ""
      ],
      "execution_count": null,
      "outputs": []
    },
    {
      "cell_type": "code",
      "metadata": {
        "id": "gEl1l9d_61Y9"
      },
      "source": [
        ""
      ],
      "execution_count": null,
      "outputs": []
    }
  ]
}