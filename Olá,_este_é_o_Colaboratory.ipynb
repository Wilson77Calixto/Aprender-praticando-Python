{
  "cells": [
    {
      "cell_type": "markdown",
      "metadata": {
        "id": "view-in-github",
        "colab_type": "text"
      },
      "source": [
        "<a href=\"https://colab.research.google.com/github/Wilson77Calixto/Aprender-praticando-Python/blob/master/Ol%C3%A1%2C_este_%C3%A9_o_Colaboratory.ipynb\" target=\"_parent\"><img src=\"https://colab.research.google.com/assets/colab-badge.svg\" alt=\"Open In Colab\"/></a>"
      ]
    },
    {
      "cell_type": "markdown",
      "source": [
        "*EXERCÍCIO DE DETECÇÃO DE ANOMALIAS:*"
      ],
      "metadata": {
        "id": "VJHGdbh5c73D"
      }
    },
    {
      "cell_type": "code",
      "source": [
        "import pandas as pd\n",
        "import numpy as np\n",
        "import matplotlib.pyplot as plt\n",
        "from sklearn.neighbors import LocalOutlierFactor\n",
        "from sklearn.datasets import make_blobs\n",
        "plt.rcParams['figure.figsize']=(15, 10)\n"
      ],
      "metadata": {
        "id": "mLVIjkqGfAOy"
      },
      "execution_count": 4,
      "outputs": []
    },
    {
      "cell_type": "code",
      "source": [
        "# Geração de dados com o make_blobs\n",
        "dados, rotulos = make_blobs(n_samples=200, centers=1, n_features=2, random_state=0, center_box=(10,10), cluster_std=.3)\n",
        "\n"
      ],
      "metadata": {
        "id": "wVUfoZa9fAWp"
      },
      "execution_count": 5,
      "outputs": []
    },
    {
      "cell_type": "code",
      "source": [
        "dados[:10]"
      ],
      "metadata": {
        "colab": {
          "base_uri": "https://localhost:8080/"
        },
        "id": "kseux-cefAeR",
        "outputId": "770b2d6d-a9ba-4756-e026-6ecf2feeef01"
      },
      "execution_count": 5,
      "outputs": [
        {
          "output_type": "execute_result",
          "data": {
            "text/plain": [
              "array([[10.01372756,  9.94384484],\n",
              "       [ 9.6188545 , 10.29081901],\n",
              "       [ 9.88453606, 10.02830548],\n",
              "       [ 9.84710435,  9.86857771],\n",
              "       [ 9.81157373,  9.85569186],\n",
              "       [ 9.96903434, 10.12317955],\n",
              "       [ 9.74163229, 10.57301949],\n",
              "       [10.01158917,  9.50298547],\n",
              "       [10.23153717, 10.24705125],\n",
              "       [10.04648423, 10.11344876]])"
            ]
          },
          "metadata": {},
          "execution_count": 5
        }
      ]
    },
    {
      "cell_type": "code",
      "source": [
        "# VisualizaçãoVisualize os dados gerados usando o gráfico de dispersão\n",
        "\n",
        "plt.scatter(dados[:,0], dados[:,1])\n",
        "plt.show()\n",
        "\n",
        "\n"
      ],
      "metadata": {
        "colab": {
          "base_uri": "https://localhost:8080/",
          "height": 612
        },
        "id": "SZINBAtrfAhN",
        "outputId": "7c6e31b4-e4a7-4f52-884b-4650c3d49405"
      },
      "execution_count": 6,
      "outputs": [
        {
          "output_type": "display_data",
          "data": {
            "text/plain": [
              "<Figure size 1080x720 with 1 Axes>"
            ],
            "image/png": "[encoded data removed]"
          },
          "metadata": {
            "needs_background": "light"
          }
        },
        {
          "output_type": "execute_result",
          "data": {
            "text/plain": [
              "'plt.scatter(dados[:,0],dados[:,1])\\nplt.show()'"
            ],
            "application/vnd.google.colaboratory.intrinsic+json": {
              "type": "string"
            }
          },
          "metadata": {},
          "execution_count": 6
        }
      ]
    },
    {
      "cell_type": "code",
      "source": [
        "k_vizinhos = 20\n",
        "contaminacao = .03\n",
        "\n",
        "\n"
      ],
      "metadata": {
        "colab": {
          "base_uri": "https://localhost:8080/",
          "height": 37
        },
        "id": "JeY0Cg3XfAkC",
        "outputId": "7c2cedb2-8f4f-491f-8b48-d2545624e60e"
      },
      "execution_count": 7,
      "outputs": [
        {
          "output_type": "execute_result",
          "data": {
            "text/plain": [
              "'k_vizinhos = 20\\ncontaminacao = .03'"
            ],
            "application/vnd.google.colaboratory.intrinsic+json": {
              "type": "string"
            }
          },
          "metadata": {},
          "execution_count": 7
        }
      ]
    },
    {
      "cell_type": "code",
      "source": [
        "lof = LocalOutlierFactor(n_neighbors=k_vizinhos, contamination=contaminacao)\n",
        "\n"
      ],
      "metadata": {
        "colab": {
          "base_uri": "https://localhost:8080/",
          "height": 37
        },
        "id": "83JyxVIhfAtB",
        "outputId": "ccd626d0-99c5-4778-a1e6-520070ce6e3d"
      },
      "execution_count": 9,
      "outputs": [
        {
          "output_type": "execute_result",
          "data": {
            "text/plain": [
              "'lof = LocalOutlierFactor(n_neighbors=k_vizinhos, contamination=contaminacao)'"
            ],
            "application/vnd.google.colaboratory.intrinsic+json": {
              "type": "string"
            }
          },
          "metadata": {},
          "execution_count": 9
        }
      ]
    },
    {
      "cell_type": "code",
      "source": [
        "predicao = lof.fit_predict(dados)\n",
        "\n"
      ],
      "metadata": {
        "colab": {
          "base_uri": "https://localhost:8080/",
          "height": 37
        },
        "id": "nPSMQOZsVqXd",
        "outputId": "d980ca55-a6b0-4462-8c66-07d0d70ed964"
      },
      "execution_count": 11,
      "outputs": [
        {
          "output_type": "execute_result",
          "data": {
            "text/plain": [
              "'predicao = lof.fit_predict(dados)'"
            ],
            "application/vnd.google.colaboratory.intrinsic+json": {
              "type": "string"
            }
          },
          "metadata": {},
          "execution_count": 11
        }
      ]
    },
    {
      "cell_type": "code",
      "source": [
        "predicao"
      ],
      "metadata": {
        "colab": {
          "base_uri": "https://localhost:8080/"
        },
        "id": "2XH9vZa4V-lT",
        "outputId": "9e132fe0-92b1-433e-c456-d090f17a850f"
      },
      "execution_count": 12,
      "outputs": [
        {
          "output_type": "execute_result",
          "data": {
            "text/plain": [
              "array([ 1,  1,  1,  1,  1,  1,  1,  1,  1,  1,  1,  1,  1,  1,  1,  1,  1,\n",
              "        1,  1,  1,  1,  1,  1,  1,  1,  1,  1,  1,  1,  1,  1, -1,  1,  1,\n",
              "        1,  1,  1,  1,  1,  1,  1,  1,  1,  1,  1,  1,  1,  1,  1,  1,  1,\n",
              "        1,  1,  1,  1,  1,  1,  1,  1,  1,  1,  1,  1,  1,  1,  1,  1,  1,\n",
              "        1,  1,  1,  1,  1,  1,  1,  1,  1,  1,  1,  1,  1,  1,  1,  1,  1,\n",
              "        1,  1,  1,  1,  1,  1,  1,  1,  1,  1, -1,  1,  1, -1,  1,  1,  1,\n",
              "        1,  1,  1,  1, -1,  1,  1,  1,  1,  1,  1,  1,  1, -1,  1,  1,  1,\n",
              "        1,  1,  1,  1,  1,  1,  1,  1,  1,  1,  1,  1,  1,  1,  1,  1,  1,\n",
              "        1,  1,  1,  1,  1,  1,  1,  1,  1,  1,  1,  1,  1,  1,  1,  1,  1,\n",
              "        1,  1,  1,  1,  1,  1,  1, -1,  1,  1,  1,  1,  1,  1,  1,  1,  1,\n",
              "        1,  1,  1,  1,  1,  1,  1,  1,  1,  1,  1,  1,  1,  1,  1,  1,  1,\n",
              "        1,  1,  1,  1,  1,  1,  1,  1,  1,  1,  1,  1,  1])"
            ]
          },
          "metadata": {},
          "execution_count": 12
        }
      ]
    },
    {
      "cell_type": "code",
      "source": [
        "lof_indice = np.where(predicao==-1)\n",
        "anomalias = dados[lof_indice]\n",
        "\n",
        "\n",
        "\n"
      ],
      "metadata": {
        "colab": {
          "base_uri": "https://localhost:8080/",
          "height": 37
        },
        "id": "pX5i39FXWe7r",
        "outputId": "ba6d79ee-2846-4751-ce4c-82d079f22afb"
      },
      "execution_count": 15,
      "outputs": [
        {
          "output_type": "execute_result",
          "data": {
            "text/plain": [
              "'lof_indice = np.where(predicao==-1) \\nanomalias = dados[lof_indice]'"
            ],
            "application/vnd.google.colaboratory.intrinsic+json": {
              "type": "string"
            }
          },
          "metadata": {},
          "execution_count": 15
        }
      ]
    },
    {
      "cell_type": "code",
      "source": [
        "fig, eixo = plt.subplots()\n",
        "eixo.scatter(dados[:,0], dados[:,1])\n",
        "eixo.scatter(anomalias[:,0], anomalias[:,1], color='red')\n",
        "\n",
        "# Coloca os rótulos nos objetos anômalos (x, y)\n",
        "\n",
        "for i, texto in enumerate(anomalias):\n",
        "  eixo.annotate('{:.2f}'.format(texto[0])+', '+'{:.2f}'.format(texto[1]),\n",
        "                (anomalias[i,0], anomalias[i,1]))\n",
        "  \n",
        "plt.show()  \n",
        "\n",
        "\n"
      ],
      "metadata": {
        "colab": {
          "base_uri": "https://localhost:8080/",
          "height": 647
        },
        "id": "0RunvYeWWfA_",
        "outputId": "e586f3bf-8e76-477e-af4f-2d3cb65b582e"
      },
      "execution_count": 21,
      "outputs": [
        {
          "output_type": "display_data",
          "data": {
            "text/plain": [
              "<Figure size 1080x720 with 1 Axes>"
            ],
            "image/png": "[encoded data removed]"
          },
          "metadata": {
            "needs_background": "light"
          }
        },
        {
          "output_type": "execute_result",
          "data": {
            "text/plain": [
              "\"fig, eixo = plt.subplots()\\neixo.scatter(dados[:,0], dados[:,1])\\neixo.scatter(anomalias[:,0], anomalias[:,1], color='red')\\n#coloca os rótulos nos objetos anômalos (x, y)\\nfor i, texto in enumerate(anomalias):\\n  eixo.annotate('{:.2f}'.format(texto[0])+', '+'{:.2f}'.format(texto[1]), (anomalias[i,0], anomalias[i,1]))\\n\\nplt.show()\""
            ],
            "application/vnd.google.colaboratory.intrinsic+json": {
              "type": "string"
            }
          },
          "metadata": {},
          "execution_count": 21
        }
      ]
    },
    {
      "cell_type": "code",
      "source": [
        ""
      ],
      "metadata": {
        "id": "TvXpfZ-rWfDS"
      },
      "execution_count": null,
      "outputs": []
    },
    {
      "cell_type": "code",
      "source": [
        ""
      ],
      "metadata": {
        "id": "0mEApHqwWfFX"
      },
      "execution_count": null,
      "outputs": []
    }
  ],
  "metadata": {
    "colab": {
      "collapsed_sections": [],
      "name": "Olá, este é o Colaboratory",
      "provenance": [],
      "include_colab_link": true
    },
    "kernelspec": {
      "display_name": "Python 3",
      "name": "python3"
    }
  },
  "nbformat": 4,
  "nbformat_minor": 0
}